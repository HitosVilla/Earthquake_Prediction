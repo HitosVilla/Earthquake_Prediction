{
 "cells": [
  {
   "cell_type": "code",
   "execution_count": 1,
   "metadata": {},
   "outputs": [],
   "source": [
    "import pandas as pd"
   ]
  },
  {
   "cell_type": "markdown",
   "metadata": {},
   "source": [
    "The following code download earthquakes data from https://earthquake.usgs.gov.\n",
    "\n",
    "This website allows us to download maximun 20.000 records per request, so I make a request each 10 years, in order to get data from 1970 until nowadays.\n",
    "\n",
    "Paramters:\n",
    "* min magnitude = 2.5\n",
    "* Chile Area:\n",
    "    * max latitude = -17.979\n",
    "    * min latitude = -57.136\n",
    "    * maxlongitude = -64.863\n",
    "    * minlongitude = -80.332&\n"
   ]
  },
  {
   "cell_type": "code",
   "execution_count": 2,
   "metadata": {},
   "outputs": [
    {
     "data": {
      "text/plain": [
       "Int64Index([1970, 1979, 1988, 1997, 2006, 2015], dtype='int64')"
      ]
     },
     "execution_count": 2,
     "metadata": {},
     "output_type": "execute_result"
    }
   ],
   "source": [
    "initial_url = \"https://earthquake.usgs.gov/fdsnws/event/1/query?format=csv&starttime=\"\n",
    "medium_url = \"-01-01%2000:00:00&endtime=\"\n",
    "end_url = \"-01-01%2000:00:00&maxlatitude=-17.979&minlatitude=-57.136&maxlongitude=-64.863&minlongitude=-80.332&minmagnitude=2.5&orderby=time\"\n",
    "\n",
    "years = pd.date_range(start='1/1/1970', end='1/1/2019', freq='9Y')\n",
    "years = years.map(lambda x: str(x)[:4]).astype('int')\n",
    "years"
   ]
  },
  {
   "cell_type": "code",
   "execution_count": 3,
   "metadata": {},
   "outputs": [
    {
     "name": "stdout",
     "output_type": "stream",
     "text": [
      "From 1970 To 1979: 1310 earthquakes\n",
      "From 1979 To 1988: 2099 earthquakes\n",
      "From 1988 To 1997: 6843 earthquakes\n",
      "From 1997 To 2006: 18524 earthquakes\n",
      "From 2006 To 2015: 12417 earthquakes\n",
      "From 2015 To 2024: 4885 earthquakes\n",
      "\n",
      " Total: 46078\n",
      " Total DF: 46078\n"
     ]
    }
   ],
   "source": [
    "count = 0\n",
    "\n",
    "data_frame = pd.DataFrame()\n",
    "year_data_frame = pd.DataFrame()\n",
    "for year in years:\n",
    "    url = initial_url + str(year) + medium_url + str(year + 9) + end_url\n",
    "    year_data_frame = pd.read_csv(url)\n",
    "    data_frame = pd.concat([data_frame, year_data_frame], ignore_index=True, sort=True)\n",
    "    count += len(year_data_frame)\n",
    "    \n",
    "    print ('From '+ str(year) + ' To ' + str(year+9) + ': ' + str(len(year_data_frame)) + ' earthquakes')\n",
    "    \n",
    "\n",
    "print (\"\\n Total: \" + str(count))\n",
    "print (\" Total DF: \" + str(len(data_frame)))\n",
    "\n",
    "\n",
    "    "
   ]
  },
  {
   "cell_type": "code",
   "execution_count": 4,
   "metadata": {},
   "outputs": [],
   "source": [
    "data_frame.to_csv(\"./data/earthquake.csv\")"
   ]
  }
 ],
 "metadata": {
  "kernelspec": {
   "display_name": "Python 3",
   "language": "python",
   "name": "python3"
  },
  "language_info": {
   "codemirror_mode": {
    "name": "ipython",
    "version": 3
   },
   "file_extension": ".py",
   "mimetype": "text/x-python",
   "name": "python",
   "nbconvert_exporter": "python",
   "pygments_lexer": "ipython3",
   "version": "3.6.8"
  }
 },
 "nbformat": 4,
 "nbformat_minor": 2
}
